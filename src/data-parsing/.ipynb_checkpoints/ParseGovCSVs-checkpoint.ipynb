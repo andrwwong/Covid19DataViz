{
 "cells": [
  {
   "cell_type": "code",
   "execution_count": 1,
   "metadata": {},
   "outputs": [],
   "source": [
    "# Import packages\n",
    "import pandas as pd\n",
    "import numpy as np\n",
    "import datetime as dt\n",
    "from numpy import inf\n",
    "from datetime import timedelta\n",
    "\n",
    "TESTING_URL = 'https://data.ca.gov/dataset/efd6b822-7312-477c-922b-bccb82025fbe/resource/b6648a0d-ff0a-4111-b80b-febda2ac9e09/download/statewide_testing.csv'\n",
    "ETHNICITY_URL = 'https://data.ca.gov/dataset/590188d5-8545-4c93-a9a0-e230f0db7290/resource/7e477adb-d7ab-4d4b-a198-dc4c6dc634c9/download/case_demographics_ethnicity.csv'\n",
    "SEX_URL = 'https://data.ca.gov/dataset/590188d5-8545-4c93-a9a0-e230f0db7290/resource/ee01b266-0a04-4494-973e-93497452e85f/download/case_demographics_sex.csv'\n",
    "HOSPITAL_URL = 'https://data.ca.gov/dataset/529ac907-6ba1-4cb7-9aae-8966fc96aeef/resource/42d33765-20fd-44b8-a978-b083b7542225/download/hospitals_by_county.csv'\n",
    "PPE_URL = 'https://data.ca.gov/dataset/da1978f2-068c-472f-be2d-04cdec48c3d9/resource/7d2f11a4-cc0f-4189-8ba4-8bee05493af1/download/logistics_ppe.csv'\n",
    "CASES_DEATHS_URL = 'https://data.ca.gov/dataset/590188d5-8545-4c93-a9a0-e230f0db7290/resource/926fd08f-cc91-4828-af38-bd45de97f8c3/download/statewide_cases.csv'"
   ]
  },
  {
   "cell_type": "code",
   "execution_count": 2,
   "metadata": {},
   "outputs": [],
   "source": [
    "# Read in dfs\n",
    "testing_df = pd.read_csv(TESTING_URL)\n",
    "ethnicity_df = pd.read_csv(ETHNICITY_URL)\n",
    "sex_df = pd.read_csv(SEX_URL)\n",
    "hospital_df = pd.read_csv(HOSPITAL_URL)\n",
    "ppe_df = pd.read_csv(PPE_URL)\n",
    "cases_deaths_df = pd.read_csv(CASES_DEATHS_URL)"
   ]
  },
  {
   "cell_type": "code",
   "execution_count": 3,
   "metadata": {},
   "outputs": [],
   "source": [
    "# Prep casesdeaths_df\n",
    "ignore_counties = ['Unassigned', 'Out Of Country']\n",
    "cases_deaths_df = cases_deaths_df.loc[np.isin(cases_deaths_df['county'], ignore_counties, invert = True)]\n",
    "cases_deaths_df = cases_deaths_df.drop_duplicates(subset=[\"county\"], keep=\"last\")"
   ]
  },
  {
   "cell_type": "code",
   "execution_count": 4,
   "metadata": {},
   "outputs": [],
   "source": [
    "# Prep sex_df\n",
    "sex_df.rename(columns={'totalpositive2': 'cases'}, inplace=True)\n",
    "sex_df = sex_df[['sex', 'cases', 'date']]"
   ]
  },
  {
   "cell_type": "code",
   "execution_count": 5,
   "metadata": {},
   "outputs": [],
   "source": [
    "# Prep hospital_df\n",
    "hospital_df.rename(columns={'todays_date': 'date'}, inplace=True)\n",
    "hospital_df.fillna(0, inplace=True)"
   ]
  },
  {
   "cell_type": "code",
   "execution_count": 6,
   "metadata": {},
   "outputs": [],
   "source": [
    "# Prep ppe_df\n",
    "ppe_df.rename(columns={'as_of_date': 'date'}, inplace=True)\n",
    "ppe_df['quantity_filled'].fillna(0, inplace=True)"
   ]
  },
  {
   "cell_type": "code",
   "execution_count": 7,
   "metadata": {},
   "outputs": [],
   "source": [
    "# Match date to week number for all dfs. Ex. Week 1 = 3/10, Week 2 = 3/17\n",
    "dataframes = [testing_df, ethnicity_df, sex_df, hospital_df, ppe_df]\n",
    "for df in dataframes: \n",
    "    # Further prep for df\n",
    "    df.dropna(inplace=True)\n",
    "    df['date'] = pd.to_datetime(df['date'])\n",
    "    df['week number'] = df['date'].dt.week\n",
    "    \n",
    "    # Get the first week\n",
    "    first_week = df['date'].iloc[0]\n",
    "    df['week'] = first_week - timedelta(days=first_week.weekday())\n",
    "\n",
    "    # Match date to week number\n",
    "    prev_week_number = df['week number'].iloc[0]\n",
    "    week_numbers = df['week number'].unique()\n",
    "    for week in week_numbers:\n",
    "        df['week'].values[df['week number'].values == week] = df[df['week number'].values == prev_week_number]['week'].iloc[0] + timedelta(days = 7)\n",
    "        prev_week_number = week"
   ]
  },
  {
   "cell_type": "code",
   "execution_count": 8,
   "metadata": {},
   "outputs": [],
   "source": [
    "# Get the total number of tests each week\n",
    "testing_df = testing_df.groupby(['week number', 'week'], as_index=False)['tested'].first()"
   ]
  },
  {
   "cell_type": "code",
   "execution_count": 9,
   "metadata": {},
   "outputs": [],
   "source": [
    "# Get the total number of cases / case percentages / deaths / death percentages for each ethnicity each week\n",
    "ethnicity_df = ethnicity_df.groupby(['week number', 'week', \n",
    "    'race_ethnicity'], as_index=False)['cases', 'case_percentage', 'deaths', 'death_percentage'].first()"
   ]
  },
  {
   "cell_type": "code",
   "execution_count": 10,
   "metadata": {},
   "outputs": [],
   "source": [
    "# Get the total number of cases for each sex each week\n",
    "sex_df = sex_df.groupby(['week number', 'week', 'sex'], as_index=False)['cases'].first()"
   ]
  },
  {
   "cell_type": "code",
   "execution_count": 11,
   "metadata": {},
   "outputs": [],
   "source": [
    "# Get the total number of hospitalized patients in each county each week\n",
    "hospital_df = hospital_df.groupby(['week number', 'week', 'county'], as_index=False)\\\n",
    "    ['hospitalized_covid_confirmed_patients', 'icu_covid_confirmed_patients', 'icu_available_beds'].first()\n",
    "hospital_df[['hospitalized_covid_confirmed_patients', 'icu_covid_confirmed_patients', 'icu_available_beds']] = \\\n",
    "   hospital_df[['hospitalized_covid_confirmed_patients', 'icu_covid_confirmed_patients', 'icu_available_beds']].astype('int64')\n",
    "hospital_df.sort_values(by=['county', 'week'], ascending=True, inplace=True)"
   ]
  },
  {
   "cell_type": "code",
   "execution_count": 12,
   "metadata": {},
   "outputs": [],
   "source": [
    "# Get the total number of equipment provided each week \n",
    "ppe_df = ppe_df.groupby(['week number', 'week', 'product_family'], as_index=False)['quantity_filled'].sum()\n",
    "ppe_df['quantity_filled'] = ppe_df['quantity_filled'].astype('int64')\n",
    "ppe_df.sort_values(by=['week'], ascending=True, inplace=True)"
   ]
  },
  {
   "cell_type": "code",
   "execution_count": 13,
   "metadata": {},
   "outputs": [],
   "source": [
    "# Rename the columns of casesdeaths_df\n",
    "cases_deaths_df.rename(columns={'county': 'County Name', 'totalcountconfirmed': 'Confirmed Cases', \n",
    "    'totalcountdeaths': 'Deaths'}, inplace=True)"
   ]
  },
  {
   "cell_type": "code",
   "execution_count": 14,
   "metadata": {},
   "outputs": [],
   "source": [
    "# Write dfs to CSVs\n",
    "testing_df.to_csv('../parsed-csvs/covid-19-tests.csv', index=False)\n",
    "ethnicity_df.to_csv('../parsed-csvs/covid-19-ethnicities.csv', index=False)\n",
    "sex_df.to_csv('../parsed-csvs/covid-19-sex.csv', index=False)\n",
    "hospital_df.to_csv('../parsed-csvs/covid-19-hospital.csv', index=False)\n",
    "ppe_df.to_csv('../parsed-csvs/covid-19-ppe.csv', index=False)\n",
    "cases_deaths_df.to_csv('../parsed-csvs/covid-19-casesdeaths.csv', index=False)"
   ]
  }
 ],
 "metadata": {
  "kernelspec": {
   "display_name": "Python 3",
   "language": "python",
   "name": "python3"
  },
  "language_info": {
   "codemirror_mode": {
    "name": "ipython",
    "version": 3
   },
   "file_extension": ".py",
   "mimetype": "text/x-python",
   "name": "python",
   "nbconvert_exporter": "python",
   "pygments_lexer": "ipython3",
   "version": "3.7.1"
  }
 },
 "nbformat": 4,
 "nbformat_minor": 2
}
