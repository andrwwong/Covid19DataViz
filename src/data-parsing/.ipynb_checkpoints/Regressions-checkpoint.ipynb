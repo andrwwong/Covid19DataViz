{
 "cells": [
  {
   "cell_type": "code",
   "execution_count": 1,
   "metadata": {},
   "outputs": [],
   "source": [
    "# Import packages\n",
    "import pandas as pd\n",
    "import numpy as np\n",
    "import datetime as dt\n",
    "from sklearn import datasets, linear_model\n",
    "from numpy import inf\n",
    "np.seterr(divide = 'ignore') \n",
    "\n",
    "NORCAL_COUNTIES = ['Alameda', 'Contra Costa', 'Fresno', 'San Francisco', 'Merced', 'San Mateo', 'Santa Clara', 'Santa Cruz', 'Tulare']\n",
    "SOCAL_COUNTIES = ['Imperial', 'Kern', 'Los Angeles', 'Orange', 'Riverside', 'San Bernardino', 'San Diego', 'Santa Barbara', 'San Luis Obispo', 'Ventura']\n",
    "\n",
    "lin_regr = linear_model.LinearRegression()"
   ]
  },
  {
   "cell_type": "code",
   "execution_count": 2,
   "metadata": {},
   "outputs": [],
   "source": [
    "# Read in parsed CSV and select counties to generate regressions\n",
    "df = pd.read_csv('../parsed-csvs/covid-19-cases-deaths.csv')\n",
    "df['Lin Regr Deaths'] = df['Deaths'];\n",
    "df['Log Regr Deaths'] = df['Deaths'];\n",
    "df['Exp Regr Deaths'] = df['Deaths'];\n",
    "\n",
    "counties = []\n",
    "counties.append(NORCAL_COUNTIES)\n",
    "counties.append(SOCAL_COUNTIES)"
   ]
  },
  {
   "cell_type": "code",
   "execution_count": 3,
   "metadata": {},
   "outputs": [],
   "source": [
    "# Model linear, logarithmic, and exponential regressions\n",
    "for region in counties:\n",
    "    for county in region:\n",
    "        # Get the 10 most recent weeks and prep data\n",
    "        county_df = df[df['County Name'].values == county].tail(10)\n",
    "        county_df[county_df['Deaths'].values < 0] = 0\n",
    "        deaths = np.array(county_df['Deaths'].values).astype('int64')\n",
    "        weeks = np.array(county_df['Week'].values).astype('int64')\n",
    "        latest_date = county_df['Start of Week Date'].iat[-1]\n",
    "        latest_week = county_df['Week'].iat[-1]\n",
    "        weeks_to_pred = np.arange(10) + 1 + latest_week\n",
    "        \n",
    "        # Model linear regression equation and predict future weeks\n",
    "        lin_regr.fit(weeks.reshape(len(weeks), 1), deaths.reshape(len(deaths), 1))\n",
    "        lin_regr_pred = lin_regr.predict(weeks_to_pred.reshape(len(weeks_to_pred), 1))\n",
    "        \n",
    "        # Model logarithmic regression equation\n",
    "        log_regr_eq = np.polyfit(np.log(weeks), deaths, 1)\n",
    "        log_A = log_regr_eq[0]; # Coefficient A for log eq\n",
    "        log_B = log_regr_eq[1]; # Coefficient B for log eq\n",
    "        \n",
    "        # Model exponential regression equation\n",
    "        log_deaths = np.log(deaths)\n",
    "        log_deaths[log_deaths == -inf] = 0\n",
    "        exp_regr_eq = np.polyfit(weeks, log_deaths, 1)\n",
    "        exp_A = exp_regr_eq[0]; # Coefficient A for exp eq\n",
    "        exp_B = exp_regr_eq[1]; # Coefficient B for exp eq\n",
    "        \n",
    "        # Predict future weeks and add to predictions df\n",
    "        predictions = []\n",
    "        for index in range (0, 10): \n",
    "            log_regr_pred = log_B + log_A * np.log(weeks_to_pred[index])\n",
    "            exp_regr_pred = np.exp(exp_B) * np.exp(exp_A * weeks_to_pred[index])\n",
    "            \n",
    "            # Append to predictions. Match the entries to the columns of df\n",
    "            new_date = pd.to_datetime(latest_date) + dt.timedelta(days=((index + 1) * 7))\n",
    "            predictions.append([new_date, latest_week + index, county, \n",
    "                                -1, -1, lin_regr_pred[index][0], log_regr_pred, exp_regr_pred])\n",
    "        \n",
    "        # Append predictions to df\n",
    "        df = df.append(pd.DataFrame(predictions, columns=['Start of Week Date', 'Week', 'County Name', \n",
    "            'Cases', 'Deaths', 'Lin Regr Deaths', 'Log Regr Deaths', 'Exp Regr Deaths']), sort=True)"
   ]
  },
  {
   "cell_type": "code",
   "execution_count": 4,
   "metadata": {},
   "outputs": [],
   "source": [
    "# Write df with regressions to separate CSVs based on counties\n",
    "df = df[['Start of Week Date', 'Week', 'County Name', 'Cases', 'Deaths', \n",
    "         'Lin Regr Deaths', 'Log Regr Deaths', 'Exp Regr Deaths']]\n",
    "df['Deaths'] = df['Deaths'].round().astype(int)\n",
    "df['Lin Regr Deaths'] = df['Lin Regr Deaths'].round().astype(int)\n",
    "df['Log Regr Deaths'] = df['Log Regr Deaths'].round().astype(int)\n",
    "df['Exp Regr Deaths'] = df['Exp Regr Deaths'].round().astype(int)\n",
    "df['Start of Week Date'] = pd.to_datetime(df['Start of Week Date'])\n",
    "df['Start of Week Date'] = df['Start of Week Date'].dt.month.astype(str) + '/' + df['Start of Week Date'].dt.day.astype(str)\n",
    "df.sort_values(['County Name', 'Week'], ascending=True, inplace=True)\n",
    "\n",
    "norcal_df = df.loc[np.isin(df['County Name'], NORCAL_COUNTIES)]\n",
    "socal_df = df.loc[np.isin(df['County Name'], SOCAL_COUNTIES)]\n",
    "\n",
    "norcal_df.to_csv('../parsed-csvs/covid-19-pred-norcal-deaths.csv')\n",
    "socal_df.to_csv('../parsed-csvs/covid-19-pred-socal-deaths.csv')"
   ]
  }
 ],
 "metadata": {
  "kernelspec": {
   "display_name": "Python 3",
   "language": "python",
   "name": "python3"
  },
  "language_info": {
   "codemirror_mode": {
    "name": "ipython",
    "version": 3
   },
   "file_extension": ".py",
   "mimetype": "text/x-python",
   "name": "python",
   "nbconvert_exporter": "python",
   "pygments_lexer": "ipython3",
   "version": "3.7.1"
  }
 },
 "nbformat": 4,
 "nbformat_minor": 2
}
