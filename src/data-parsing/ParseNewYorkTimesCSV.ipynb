{
 "cells": [
  {
   "cell_type": "code",
   "execution_count": 1,
   "metadata": {},
   "outputs": [],
   "source": [
    "# Import packages\n",
    "import pandas as pd\n",
    "import numpy as np\n",
    "import datetime as dt\n",
    "from datetime import timedelta\n",
    "\n",
    "NYT_URL = 'https://raw.githubusercontent.com/nytimes/covid-19-data/master/us-counties.csv'\n",
    "NORCAL_COUNTIES = ['Alameda', 'Contra Costa', 'Fresno', 'San Francisco', 'Merced', 'San Mateo', 'Santa Clara', 'Santa Cruz', 'Tulare']\n",
    "SOCAL_COUNTIES = ['Imperial', 'Kern', 'Los Angeles', 'Orange', 'Riverside', 'San Bernardino', 'San Diego', 'Santa Barbara', 'San Luis Obispo', 'Ventura']\n",
    "ALL_COUNTIES = NORCAL_COUNTIES + SOCAL_COUNTIES\n",
    "FIRST_WEEK = 9"
   ]
  },
  {
   "cell_type": "code",
   "execution_count": 2,
   "metadata": {},
   "outputs": [],
   "source": [
    "# Read in the dataframe and filter for selected CA counties\n",
    "chunks = pd.read_csv(NYT_URL, chunksize=150000)\n",
    "df = pd.concat(chunks)\n",
    "\n",
    "df = df[['date','county', 'state', 'cases', 'deaths']]\n",
    "df = df[df['state'] == 'California']\n",
    "df = df.loc[np.isin(df['county'], ALL_COUNTIES)]"
   ]
  },
  {
   "cell_type": "code",
   "execution_count": 3,
   "metadata": {},
   "outputs": [],
   "source": [
    "# Convert 'date' column to a datetime object and get all weeks >= first week\n",
    "df['date'] = pd.to_datetime(df['date'])\n",
    "df['week number'] = df['date'].dt.week\n",
    "df = df[df['week number'] >= FIRST_WEEK]"
   ]
  },
  {
   "cell_type": "code",
   "execution_count": 4,
   "metadata": {},
   "outputs": [],
   "source": [
    "# Find the date covid was first being tracked by the NYT (from the chosen counties)\n",
    "start_covid_date = df.loc[df['week number'] == FIRST_WEEK]['date'].iloc[0]"
   ]
  },
  {
   "cell_type": "code",
   "execution_count": 5,
   "metadata": {},
   "outputs": [],
   "source": [
    "# Match date to week number. Ex. Week 1 = 3/10, Week 2 = 3/17\n",
    "prev_week_number = df['week number'].iloc[0]\n",
    "week_numbers = df['week number'].unique()\n",
    "df['start of week date'] = start_covid_date - timedelta(days=start_covid_date.weekday())\n",
    "\n",
    "for week in week_numbers:\n",
    "    df['start of week date'].values[df['week number'].values == week] = df[df['week number'].values == prev_week_number]['start of week date'].iloc[0] + timedelta(days = 7)\n",
    "    prev_week_number = week"
   ]
  },
  {
   "cell_type": "code",
   "execution_count": 6,
   "metadata": {},
   "outputs": [],
   "source": [
    "# Get the total number of cases and deaths for each week for each selected county\n",
    "# max() is used instead of sum() because the NYT reports the total number of cases and deaths instead of \n",
    "# individual cases\n",
    "df = df.groupby(['week number', 'county', 'state', \n",
    "                 'start of week date'], as_index=False)['cases', 'deaths'].max()"
   ]
  },
  {
   "cell_type": "code",
   "execution_count": 7,
   "metadata": {},
   "outputs": [],
   "source": [
    "# Write parsed df to a CSV\n",
    "df.reset_index(drop=True, inplace=True)\n",
    "df = df[['week number', 'county', 'cases', 'deaths', 'start of week date']]\n",
    "df.rename(columns={'week number':'Week', 'county':'County Name', 'cases':'Cases', 'deaths':'Deaths', 'start of week date': 'Start of Week Date'}, inplace=True)\n",
    "df.sort_values(by=['County Name', 'Week'], ascending=True, inplace=True)\n",
    "df.to_csv('../parsed-csvs/covid-19-cases-deaths.csv')"
   ]
  }
 ],
 "metadata": {
  "kernelspec": {
   "display_name": "Python 3",
   "language": "python",
   "name": "python3"
  },
  "language_info": {
   "codemirror_mode": {
    "name": "ipython",
    "version": 3
   },
   "file_extension": ".py",
   "mimetype": "text/x-python",
   "name": "python",
   "nbconvert_exporter": "python",
   "pygments_lexer": "ipython3",
   "version": "3.7.1"
  }
 },
 "nbformat": 4,
 "nbformat_minor": 2
}
